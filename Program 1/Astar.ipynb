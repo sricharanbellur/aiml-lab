{
 "cells": [
  {
   "cell_type": "code",
   "execution_count": 1,
   "id": "e7678d19",
   "metadata": {},
   "outputs": [
    {
     "name": "stdout",
     "output_type": "stream",
     "text": [
      "Optimal Path : ['S', 'B', 'G']\n"
     ]
    },
    {
     "data": {
      "text/plain": [
       "['S', 'B', 'G']"
      ]
     },
     "execution_count": 1,
     "metadata": {},
     "output_type": "execute_result"
    }
   ],
   "source": [
    "def astar(start_node,stop_node):\n",
    "    open_set = set(start_node)\n",
    "    closed_set = set()\n",
    "    g = {}\n",
    "    parents = {}\n",
    "    g[start_node] = 0\n",
    "    parents[start_node]=start_node\n",
    "    \n",
    "    while len(open_set) > 0:\n",
    "        n = None\n",
    "        for v in open_set:\n",
    "            if n == None or g[v] + heuristic(v) < g[n] +heuristic(n):\n",
    "                n = v\n",
    "        \n",
    "        if n == stop_node or Graph_Nodes[n] == None:\n",
    "            pass\n",
    "        else:\n",
    "            for(m,weight) in get_neighbours(n):\n",
    "                if m not in open_set and m not in closed_set:\n",
    "                    open_set.add(m)\n",
    "                    parents[m] = n \n",
    "                    g[m] = g[n] +weight\n",
    "                else:\n",
    "                    if g[m] >g[n]+weight:\n",
    "                        g[m] = g[n]+weight\n",
    "                        parents[m] = n \n",
    "                        if m in closed_set:\n",
    "                            closed_set.remove(m)\n",
    "                            open_set.add(m)\n",
    "        \n",
    "        if n ==None:\n",
    "            print(\"Path does not exist\")\n",
    "            return None\n",
    "        if n == stop_node:\n",
    "            path = []\n",
    "            while parents[n] != n:\n",
    "                path.append(n)\n",
    "                n = parents[n]\n",
    "            path.append(start_node)\n",
    "            path.reverse()\n",
    "            print(\"Optimal Path : {}\".format(path))\n",
    "            return path \n",
    "        open_set.remove(n)\n",
    "        closed_set.add(n)\n",
    "    print(\"Path does not exist !!\")\n",
    "    return None\n",
    "\n",
    "\n",
    "def get_neighbours(v):\n",
    "    if v in Graph_Nodes:\n",
    "        return Graph_Nodes[v]\n",
    "    else:\n",
    "        return None\n",
    "def heuristic(n):\n",
    "        H_dist = {\n",
    "            'S' : 8,'A': 8,'B': 4,'C': 3,'D':999,'E':999,'G': 0,\n",
    "        }\n",
    " \n",
    "        return H_dist[n]\n",
    "    \n",
    "Graph_Nodes = {\n",
    "    'S': [('A', 1), ('B', 5),('C', 8)],\n",
    "    'A': [('D', 3),('E', 7),('G', 9)],\n",
    "    'B': [('G', 4)],\n",
    "    'C': [('G', 5)],\n",
    "    'E': None,\n",
    "    'D': None,\n",
    "}\n",
    "astar('S','G')"
   ]
  },
  {
   "cell_type": "code",
   "execution_count": null,
   "id": "1f6b5116",
   "metadata": {},
   "outputs": [],
   "source": []
  }
 ],
 "metadata": {
  "kernelspec": {
   "display_name": "Python 3 (ipykernel)",
   "language": "python",
   "name": "python3"
  },
  "language_info": {
   "codemirror_mode": {
    "name": "ipython",
    "version": 3
   },
   "file_extension": ".py",
   "mimetype": "text/x-python",
   "name": "python",
   "nbconvert_exporter": "python",
   "pygments_lexer": "ipython3",
   "version": "3.9.7"
  }
 },
 "nbformat": 4,
 "nbformat_minor": 5
}
