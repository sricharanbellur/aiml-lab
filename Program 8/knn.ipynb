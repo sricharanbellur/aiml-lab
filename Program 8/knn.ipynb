{
 "cells": [
  {
   "cell_type": "code",
   "execution_count": 8,
   "id": "911b947b",
   "metadata": {},
   "outputs": [
    {
     "name": "stdout",
     "output_type": "stream",
     "text": [
      "y_pred    y_test\n",
      "2     2\n",
      "1     1\n",
      "0     0\n",
      "2     2\n",
      "0     0\n",
      "2     2\n",
      "0     0\n",
      "1     1\n",
      "1     1\n",
      "1     1\n",
      "2     2\n",
      "1     1\n",
      "1     1\n",
      "1     1\n",
      "2     1\n",
      "0     0\n",
      "1     1\n",
      "1     1\n",
      "0     0\n",
      "0     0\n",
      "2     2\n",
      "1     1\n",
      "0     0\n",
      "0     0\n",
      "2     2\n",
      "0     0\n",
      "0     0\n",
      "1     1\n",
      "1     1\n",
      "0     0\n",
      "Confusion Matrix:\n",
      "[[11  0  0]\n",
      " [ 0 12  1]\n",
      " [ 0  0  6]]\n",
      "Accuracy of our model is equal 96.67 %.\n"
     ]
    }
   ],
   "source": [
    "import numpy as np\n",
    "import pandas as pd\n",
    "\n",
    "dataset = pd.read_csv('iris.csv')\n",
    "feature_columns = ['sepal_length', 'sepal_width', 'petal_length','petal_width']\n",
    "X = dataset[feature_columns].values\n",
    "y = dataset['species'].values\n",
    "\n",
    "from sklearn.preprocessing import LabelEncoder\n",
    "le = LabelEncoder()\n",
    "y = le.fit_transform(y)\n",
    "\n",
    "from sklearn.model_selection import train_test_split\n",
    "X_train, X_test, y_train, y_test = train_test_split(X, y, test_size = 0.2, random_state = 0)\n",
    "\n",
    "from sklearn.neighbors import KNeighborsClassifier\n",
    "classifier = KNeighborsClassifier(n_neighbors = 3)\n",
    "\n",
    "classifier.fit(X_train, y_train)\n",
    "y_pred = classifier.predict(X_test)\n",
    "print(\"y_pred    y_test\")\n",
    "\n",
    "for i in range(len(y_pred)):\n",
    "    print(y_pred[i], \"   \", y_test[i])\n",
    "\n",
    "from sklearn.metrics import confusion_matrix\n",
    "cm = confusion_matrix(y_test, y_pred)\n",
    "print(\"Confusion Matrix:\")\n",
    "print(cm)\n",
    "\n",
    "from sklearn.metrics import accuracy_score\n",
    "accuracy = accuracy_score(y_test, y_pred)*100\n",
    "print('Accuracy of our model is equal ' + str(round(accuracy, 2)) + ' %.')"
   ]
  },
  {
   "cell_type": "code",
   "execution_count": null,
   "id": "d9ad0f10",
   "metadata": {},
   "outputs": [],
   "source": []
  }
 ],
 "metadata": {
  "kernelspec": {
   "display_name": "Python 3 (ipykernel)",
   "language": "python",
   "name": "python3"
  },
  "language_info": {
   "codemirror_mode": {
    "name": "ipython",
    "version": 3
   },
   "file_extension": ".py",
   "mimetype": "text/x-python",
   "name": "python",
   "nbconvert_exporter": "python",
   "pygments_lexer": "ipython3",
   "version": "3.9.7"
  }
 },
 "nbformat": 4,
 "nbformat_minor": 5
}
